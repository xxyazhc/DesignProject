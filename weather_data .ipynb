{
 "cells": [
  {
   "cell_type": "code",
   "execution_count": 1,
   "id": "15f30a4d-6c38-4e70-b619-66313bc64bf2",
   "metadata": {},
   "outputs": [],
   "source": [
    "import pandas as pd\n",
    "import numpy as np"
   ]
  },
  {
   "cell_type": "code",
   "execution_count": 3,
   "id": "ecc533b9-996b-43e1-a46c-146bdbf339ef",
   "metadata": {},
   "outputs": [
    {
     "name": "stdout",
     "output_type": "stream",
     "text": [
      "Data for plot 01A:\n",
      "   Day  Month  Year  Velocity [m/s]  Direction [deg]\n",
      "0    1      1  2016            24.7             24.1\n",
      "1    2      1  2016             3.4             35.9\n",
      "2    3      1  2016            20.7              2.2\n",
      "3    4      1  2016            10.0             20.3\n",
      "4    5      1  2016            -0.2             22.7\n"
     ]
    }
   ],
   "source": [
    "import os\n",
    "import pandas as pd\n",
    "\n",
    "# Path where your files are stored\n",
    "directory = os.getcwd()\n",
    "\n",
    "# Dictionary to store data with plot names as keys\n",
    "plot_data = {}\n",
    "\n",
    "# Create lists for XX (1 to 19) and Y (A to L)\n",
    "XX = range(1, 20)\n",
    "Y = ['A', 'B', 'C', 'D', 'E', 'F', 'G', 'H', 'I', 'J', 'K', 'L']\n",
    "\n",
    "# Loop through all combinations of XX and Y\n",
    "for x in XX:\n",
    "    for y in Y:\n",
    "        # Construct the filename based on the pattern XXY_2012.txt\n",
    "        filename = f'{x:02}{y}_2016.txt'\n",
    "        filepath = os.path.join(directory, filename)\n",
    "\n",
    "        # Read the file into a DataFrame (assuming tab-separated values)\n",
    "        df = pd.read_csv(filepath, skiprows=2, header=None, delimiter='\\t')\n",
    "        df.columns = ['Day', 'Month', 'Year', 'Velocity [m/s]', 'Direction [deg]'] \n",
    "        \n",
    "        # Add the DataFrame to the dictionary with plot name as the key\n",
    "        plot_name = f\"{x:02}{y}\"\n",
    "        plot_data[plot_name] = df\n",
    "\n",
    "# Example: Access data for a specific plot, e.g., \"01A\"\n",
    "print(\"Data for plot 01A:\")\n",
    "print(plot_data[\"01A\"].head())\n"
   ]
  },
  {
   "cell_type": "code",
   "execution_count": 5,
   "id": "27909b4c-aab2-47f0-b9e7-d3fdccf4dcd8",
   "metadata": {},
   "outputs": [
    {
     "name": "stdout",
     "output_type": "stream",
     "text": [
      "     Mean Wind Speed [m/s]  Mean Wind Direction [deg]\n",
      "01A               9.686885                  72.359290\n",
      "01B               9.392350                  97.774590\n",
      "01C               9.501639                  68.857650\n",
      "01D               9.205464                  53.839891\n",
      "01E               9.382787                 122.615301\n",
      "Mean wind data has been saved to 'mean_wind_data.csv'\n"
     ]
    }
   ],
   "source": [
    "# Dictionary to store mean values for each plot\n",
    "mean_values = {}\n",
    "\n",
    "# Loop through each plot's data\n",
    "for plot_name, df in plot_data.items():\n",
    "    # Calculate mean wind speed and mean wind direction, ignoring NaN values\n",
    "    df['Velocity [m/s]'] = df['Velocity [m/s]'].abs()\n",
    "    mean_speed = df['Velocity [m/s]'].mean()\n",
    "    mean_direction = df['Direction [deg]'].mean()\n",
    "    \n",
    "    # Store the results in the mean_values dictionary\n",
    "    mean_values[plot_name] = {\n",
    "        \"Mean Wind Speed [m/s]\": mean_speed,\n",
    "        \"Mean Wind Direction [deg]\": mean_direction\n",
    "    }\n",
    "\n",
    "# Convert the mean_values dictionary to a DataFrame for easy viewing\n",
    "mean_df = pd.DataFrame.from_dict(mean_values, orient='index')\n",
    "\n",
    "# Display the mean values for the first few plots\n",
    "print(mean_df.head())\n",
    "# Save the mean values DataFrame to a CSV file in the current directory\n",
    "mean_df.to_csv('mean_wind_data.csv', index_label='Plot Name')\n",
    "print(\"Mean wind data has been saved to 'mean_wind_data.csv'\")\n"
   ]
  },
  {
   "cell_type": "code",
   "execution_count": 7,
   "id": "e0337922-2bd5-470b-bee9-9bed99508a0e",
   "metadata": {},
   "outputs": [
    {
     "name": "stdout",
     "output_type": "stream",
     "text": [
      "     Skewness  Peak PDF Value\n",
      "01A  0.452585        0.075855\n",
      "01B  0.402020        0.077647\n",
      "01C  0.414021        0.076995\n",
      "01D  0.444847        0.079380\n",
      "01E  0.397889        0.079429\n",
      "PDF analysis results have been saved to 'pdf_analysis_results.csv'\n"
     ]
    },
    {
     "data": {
      "text/plain": [
       "<Figure size 640x480 with 0 Axes>"
      ]
     },
     "metadata": {},
     "output_type": "display_data"
    }
   ],
   "source": [
    "import os\n",
    "from scipy.stats import skew\n",
    "import numpy as np\n",
    "import matplotlib.pyplot as plt\n",
    "from scipy.stats import weibull_min\n",
    "\n",
    "# Create a directory to save the plots (if not already exists)\n",
    "save_directory = 'bar graphs'\n",
    "os.makedirs(save_directory, exist_ok=True)\n",
    "\n",
    "# Store skewness and peak values\n",
    "skewness_values = {}\n",
    "peak_values = {}\n",
    "\n",
    "# Loop through each plot's data\n",
    "for plot_name, df in plot_data.items():\n",
    "    # Remove NaN values from the wind speed data\n",
    "    df['Velocity [m/s]'] = df['Velocity [m/s]'].abs()\n",
    "    wind_speeds = df['Velocity [m/s]'].dropna()\n",
    "    \n",
    "    # Fit the Weibull distribution and get shape and scale parameters\n",
    "    shape, loc, scale = weibull_min.fit(wind_speeds, floc=0)\n",
    "    \n",
    "    # Calculate the PDF values using the Weibull distribution\n",
    "    v_values = np.linspace(0, max(wind_speeds), 100)\n",
    "    pdf_values = (shape / scale) * ((v_values / scale) ** (shape - 1)) * np.exp(-(v_values / scale) ** shape)\n",
    "    \n",
    "    # Calculate skewness of the distribution\n",
    "    skewness_values[plot_name] = skew(wind_speeds)\n",
    "    \n",
    "    # Find the peak value of the PDF (the maximum value of the PDF)\n",
    "    peak_values[plot_name] = max(pdf_values)\n",
    "\n",
    "    # Plot the PDF for visualization\n",
    "    plt.plot(v_values, pdf_values, label=f'Plot {plot_name}')\n",
    "    plt.title(f'Probability Density Function - Plot {plot_name}')\n",
    "    plt.xlabel('Velocity [m/s]')\n",
    "    plt.ylabel('Probability Density')\n",
    "    \n",
    "    # Save the plot as a PNG image in the 'bad graphs' folder\n",
    "    plot_filename = os.path.join(save_directory, f'{plot_name}_pdf_plot.png')\n",
    "    plt.savefig(plot_filename)\n",
    "    \n",
    "    # Clear the plot to avoid overlapping with the next plot\n",
    "    plt.clf()\n",
    "\n",
    "# Display skewness and peak values\n",
    "skewness_df = pd.DataFrame.from_dict(skewness_values, orient='index', columns=['Skewness'])\n",
    "peak_df = pd.DataFrame.from_dict(peak_values, orient='index', columns=['Peak PDF Value'])\n",
    "\n",
    "# Combine skewness and peak value data into one DataFrame\n",
    "pdf_analysis_df = pd.concat([skewness_df, peak_df], axis=1)\n",
    "\n",
    "# Display the analysis and save the results\n",
    "print(pdf_analysis_df.head())\n",
    "pdf_analysis_df.to_csv('pdf_analysis_results.csv', index_label='Plot Name')\n",
    "\n",
    "print(\"PDF analysis results have been saved to 'pdf_analysis_results.csv'\")\n"
   ]
  },
  {
   "cell_type": "code",
   "execution_count": 38,
   "id": "ffb84107-a860-44a4-bf47-c24fc5c6cd22",
   "metadata": {},
   "outputs": [
    {
     "name": "stdout",
     "output_type": "stream",
     "text": [
      "The most suitable area for establishing a wind power station: 14B, Score: 340.535359109579\n",
      "Mean Wind Speed        15.682067\n",
      "Standard Deviation      5.288980\n",
      "Skewness               -0.336869\n",
      "Weibull Shape (k)       3.393837\n",
      "Weibull Scale (λ)      17.481645\n",
      "Peak PDF Value          0.074957\n",
      "Score                 340.535359\n",
      "Name: 14B, dtype: float64\n",
      "Analysis results saved to 'wind_farm_suitability_analysis.csv'\n"
     ]
    },
    {
     "data": {
      "text/plain": [
       "<Figure size 640x480 with 0 Axes>"
      ]
     },
     "metadata": {},
     "output_type": "display_data"
    },
    {
     "data": {
      "image/png": "[encoded data removed]",
      "text/plain": [
       "<Figure size 1200x600 with 1 Axes>"
      ]
     },
     "metadata": {},
     "output_type": "display_data"
    },
    {
     "name": "stdout",
     "output_type": "stream",
     "text": [
      "Bar chart saved as 'wind_farm_scores_bar_plot.png'\n"
     ]
    }
   ],
   "source": [
    "import os\n",
    "from scipy.stats import skew\n",
    "import numpy as np\n",
    "import pandas as pd\n",
    "import matplotlib.pyplot as plt\n",
    "from scipy.stats import weibull_min\n",
    "\n",
    "# Create a directory to save the plots (if it doesn't already exist)\n",
    "save_directory = 'bar_graphs'\n",
    "os.makedirs(save_directory, exist_ok=True)\n",
    "\n",
    "# Store skewness, peak values, and other evaluation metrics\n",
    "skewness_values = {}\n",
    "peak_values = {}\n",
    "mean_wind_speeds = {}\n",
    "std_devs = {}\n",
    "weibull_shapes = {}\n",
    "weibull_scales = {}\n",
    "plot_scores = {}\n",
    "\n",
    "# Iterate over each grid area's data\n",
    "for plot_name, df in plot_data.items():\n",
    "    # Remove NaN values and take the absolute value\n",
    "    df['Velocity [m/s]'] = df['Velocity [m/s]'].abs()\n",
    "    wind_speeds = df['Velocity [m/s]'].dropna()\n",
    "\n",
    "    # Filter out wind speeds above 25 m/s as turbines do not operate at such high speeds\n",
    "    wind_speeds = wind_speeds[wind_speeds <= 25]\n",
    "\n",
    "    # Check if there is valid data\n",
    "    if len(wind_speeds) == 0:\n",
    "        print(f\"Skipping empty dataset or no valid data: {plot_name}\")\n",
    "        continue\n",
    "\n",
    "    # Calculate basic statistical metrics\n",
    "    mean_speed = wind_speeds.mean()\n",
    "    std_dev = wind_speeds.std()\n",
    "    skewness = skew(wind_speeds)\n",
    "\n",
    "    # Store these metrics\n",
    "    mean_wind_speeds[plot_name] = mean_speed\n",
    "    std_devs[plot_name] = std_dev\n",
    "    skewness_values[plot_name] = skewness\n",
    "\n",
    "    # Fit the Weibull distribution\n",
    "    shape, loc, scale = weibull_min.fit(wind_speeds, floc=0)\n",
    "    weibull_shapes[plot_name] = shape\n",
    "    weibull_scales[plot_name] = scale\n",
    "\n",
    "    # Calculate Weibull PDF\n",
    "    v_values = np.linspace(0, max(wind_speeds), 100)\n",
    "    pdf_values = (shape / scale) * ((v_values / scale) ** (shape - 1)) * np.exp(-(v_values / scale) ** shape)\n",
    "    peak_value = max(pdf_values)\n",
    "    peak_values[plot_name] = peak_value\n",
    "\n",
    "    # Determine the position of the PDF peak\n",
    "    peak_position = v_values[np.argmax(pdf_values)]\n",
    "\n",
    "    # Calculate the score based on evaluation criteria\n",
    "    score = 0\n",
    "    score += mean_speed * 10  # Weight for mean wind speed\n",
    "    score += (6.5 - std_dev) * 5  # Weight for standard deviation (lower is better)\n",
    "    score += shape * 8  # Weight for Weibull shape parameter\n",
    "    score += scale * 7  # Weight for Weibull scale parameter\n",
    "    score += (15 - abs(peak_position - 10)) * 3  # Weight for PDF peak position (optimal around 10 m/s)\n",
    "    score += (0 - skewness) * 2  # Weight for skewness (close to 0 or negative is better)\n",
    "\n",
    "    # Store the score\n",
    "    plot_scores[plot_name] = score\n",
    "\n",
    "    # Plot and save the Weibull PDF\n",
    "    plt.plot(v_values, pdf_values, label=f'Plot {plot_name}')\n",
    "    plt.title(f'Probability Density Function - Plot {plot_name}')\n",
    "    plt.xlabel('Velocity [m/s]')\n",
    "    plt.ylabel('Probability Density')\n",
    "    plt.grid(True)\n",
    "    \n",
    "    # Save the plot\n",
    "    plot_filename = os.path.join(save_directory, f'{plot_name}_pdf_plot.png')\n",
    "    plt.savefig(plot_filename)\n",
    "    plt.clf()  # Clear the plot to avoid overlap\n",
    "\n",
    "# Find the area with the highest score\n",
    "best_plot = max(plot_scores, key=plot_scores.get)\n",
    "best_score = plot_scores[best_plot]\n",
    "\n",
    "# Create a DataFrame to store all evaluation results\n",
    "analysis_df = pd.DataFrame({\n",
    "    'Mean Wind Speed': mean_wind_speeds,\n",
    "    'Standard Deviation': std_devs,\n",
    "    'Skewness': skewness_values,\n",
    "    'Weibull Shape (k)': weibull_shapes,\n",
    "    'Weibull Scale (λ)': weibull_scales,\n",
    "    'Peak PDF Value': peak_values,\n",
    "    'Score': plot_scores\n",
    "})\n",
    "\n",
    "# Print the best location\n",
    "print(f\"The most suitable area for establishing a wind power station: {best_plot}, Score: {best_score}\")\n",
    "print(analysis_df.loc[best_plot])\n",
    "\n",
    "# Save the analysis results to a CSV file\n",
    "analysis_df.to_csv('wind_farm_suitability_analysis.csv', index_label='Plot Name')\n",
    "print(\"Analysis results saved to 'wind_farm_suitability_analysis.csv'\")\n",
    "\n",
    "# Plot a bar chart of the scores for each area\n",
    "plt.figure(figsize=(12, 6))\n",
    "plt.bar(plot_scores.keys(), plot_scores.values(), color='#87CEEB')\n",
    "plt.title('Scores of Different Areas for Wind Turbine Installation')\n",
    "plt.xlabel('Different Location')\n",
    "plt.ylabel('Score')\n",
    "plt.xticks([])  # Remove x-axis labels if they are too crowded\n",
    "plt.grid(axis='y', linestyle='--')\n",
    "plt.tight_layout()\n",
    "\n",
    "# Save the bar chart as an image\n",
    "bar_plot_filename = 'wind_farm_scores_bar_plot.png'\n",
    "plt.savefig(bar_plot_filename)\n",
    "plt.show()\n",
    "\n",
    "print(f\"Bar chart saved as '{bar_plot_filename}'\")\n"
   ]
  },
  {
   "cell_type": "code",
   "execution_count": null,
   "id": "b29f4269-f795-4082-b4b9-0daecae6d8e4",
   "metadata": {},
   "outputs": [],
   "source": []
  }
 ],
 "metadata": {
  "kernelspec": {
   "display_name": "Python 3 (ipykernel)",
   "language": "python",
   "name": "python3"
  },
  "language_info": {
   "codemirror_mode": {
    "name": "ipython",
    "version": 3
   },
   "file_extension": ".py",
   "mimetype": "text/x-python",
   "name": "python",
   "nbconvert_exporter": "python",
   "pygments_lexer": "ipython3",
   "version": "3.11.7"
  }
 },
 "nbformat": 4,
 "nbformat_minor": 5
}
